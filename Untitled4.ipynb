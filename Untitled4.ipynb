{
  "nbformat": 4,
  "nbformat_minor": 0,
  "metadata": {
    "colab": {
      "provenance": []
    },
    "kernelspec": {
      "name": "python3",
      "display_name": "Python 3"
    },
    "language_info": {
      "name": "python"
    }
  },
  "cells": [
    {
      "cell_type": "markdown",
      "source": [],
      "metadata": {
        "id": "ehn3-tU2jVJl"
      }
    },
    {
      "cell_type": "code",
      "source": [
        "import pandas as pd\n",
        "import re\n",
        "import nltk\n",
        "import matplotlib.pyplot as plt\n",
        "from nltk.sentiment import SentimentIntensityAnalyzer # Changed SentimentIntensityAnalyzerv to SentimentIntensityAnalyze"
      ],
      "metadata": {
        "id": "8W8ctGt3jWGs"
      },
      "execution_count": 5,
      "outputs": []
    },
    {
      "cell_type": "code",
      "source": [
        "# Sample data - You can replace this with tweets, Facebook comments, etc.\n",
        "data = {\n",
        "    'user': ['user1', 'user2', 'user3'],\n",
        "    'post': [\n",
        "        \"I'm so happy with the new update! Amazing work.\",\n",
        "        \"This app is terrible. Keeps crashing!\",\n",
        "        \"I'm not sure how I feel about this. It's okay, I guess.\"\n",
        "    ]\n",
        "}\n",
        "\n",
        "df = pd.DataFrame(data)"
      ],
      "metadata": {
        "id": "8puaTEP8jwjz"
      },
      "execution_count": 7,
      "outputs": []
    },
    {
      "cell_type": "code",
      "source": [
        "def clean_text(text):\n",
        "    text = re.sub(r\"http\\S+|www\\S+|https\\S+\", '', text, flags=re.MULTILINE)  # Remove URLs\n",
        "    text = re.sub(r'\\@w+|\\#','', text)  # Remove mentions and hashtags\n",
        "    text = re.sub(r'[^A-Za-z\\s]', '', text)  # Remove punctuations\n",
        "    return text.lower()\n",
        "\n",
        "df['clean_post'] = df['post'].apply(clean_text)"
      ],
      "metadata": {
        "id": "QA5oaDd1kdvw"
      },
      "execution_count": 8,
      "outputs": []
    },
    {
      "cell_type": "code",
      "source": [
        "nltk.download('vader_lexicon')\n",
        "sia = SentimentIntensityAnalyzer()\n",
        "\n",
        "# Add sentiment scores\n",
        "df['sentiment_score'] = df['clean_post'].apply(lambda x: sia.polarity_scores(x)['compound'])\n",
        "\n",
        "# Classify emotion\n",
        "def get_emotion(score):\n",
        "    if score >= 0.5:\n",
        "        return 'Joy'\n",
        "    elif score <= -0.5:\n",
        "        return 'Anger'\n",
        "    elif -0.5 < score < 0:\n",
        "        return 'Sadness'\n",
        "    elif 0 <= score < 0.5:\n",
        "        return 'Neutral'\n",
        "    else:\n",
        "        return 'Unknown'\n",
        "\n",
        "df['emotion'] = df['sentiment_score'].apply(get_emotion)"
      ],
      "metadata": {
        "colab": {
          "base_uri": "https://localhost:8080/"
        },
        "id": "-VEVKLaVklGi",
        "outputId": "5ef73618-f97b-49f8-8b9a-df229f88b2d3"
      },
      "execution_count": 11,
      "outputs": [
        {
          "output_type": "stream",
          "name": "stderr",
          "text": [
            "[nltk_data] Downloading package vader_lexicon to /root/nltk_data...\n"
          ]
        }
      ]
    },
    {
      "cell_type": "code",
      "source": [
        "emotion_counts = df['emotion'].value_counts()\n",
        "emotion_counts.plot(kind='bar', title='Emotion Distribution')\n",
        "plt.xlabel('Emotion')\n",
        "plt.ylabel('Frequency')\n",
        "plt.show()"
      ],
      "metadata": {
        "colab": {
          "base_uri": "https://localhost:8080/",
          "height": 515
        },
        "id": "dzEXzSU9lNC_",
        "outputId": "303e651e-cafc-486f-87cf-d0fd424b541b"
      },
      "execution_count": 12,
      "outputs": [
        {
          "output_type": "display_data",
          "data": {
            "text/plain": [
              "<Figure size 640x480 with 1 Axes>"
            ],
            "image/png": "[encoded data removed]"
          },
          "metadata": {}
        }
      ]
    },
    {
      "cell_type": "code",
      "source": [
        "import pandas as pd\n",
        "\n",
        "data = {'user': ['user1', 'user2', 'user3'],\n",
        "        'post': [\"I'm so happy with the new update! Amazing work.\", \"This app is terrible. Keeps crashing!\", \"I'm not sure how I feel about this. It's okay.\"],\n",
        "        'sentiment_score': [0.86, -0.77, 0.17],\n",
        "        'emotion': ['Joy', 'Anger', 'Neutralv']}\n",
        "\n",
        "df = pd.DataFrame(data)\n",
        "print(df)"
      ],
      "metadata": {
        "colab": {
          "base_uri": "https://localhost:8080/"
        },
        "id": "Ga07nmIRlWMf",
        "outputId": "8106c3e7-a84e-4af2-9f2d-3631a913e54e"
      },
      "execution_count": 14,
      "outputs": [
        {
          "output_type": "stream",
          "name": "stdout",
          "text": [
            "    user                                             post  sentiment_score  \\\n",
            "0  user1  I'm so happy with the new update! Amazing work.             0.86   \n",
            "1  user2            This app is terrible. Keeps crashing!            -0.77   \n",
            "2  user3   I'm not sure how I feel about this. It's okay.             0.17   \n",
            "\n",
            "    emotion  \n",
            "0       Joy  \n",
            "1     Anger  \n",
            "2  Neutralv  \n"
          ]
        }
      ]
    }
  ]
}